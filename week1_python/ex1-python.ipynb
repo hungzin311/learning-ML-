{
 "cells": [
  {
   "cell_type": "markdown",
   "id": "29425641",
   "metadata": {},
   "source": [
    "# Phần bài tập thực hành Python "
   ]
  },
  {
   "cell_type": "markdown",
   "id": "0a15870c",
   "metadata": {},
   "source": [
    "### BT1: cho 1 biến data kiểu string như bên dưới\n",
    "\n",
    "```\n",
    "data = '''\n",
    "Come to the\n",
    "River\n",
    "Of my\n",
    "Soulful\n",
    "Sentiments\n",
    "Meandering silently\n",
    "Yearning for release.\n",
    "Hasten\n",
    "Earnestly\n",
    "As my love flows by\n",
    "Rushing through the flood-gates\n",
    "To your heart.\n",
    "'''\n",
    "# https://www.poetrysoup.com/poem/cross_my_heart_609765\n",
    "```\n",
    "\n",
    "- Yêu cầu: giải mã mật thư, lấy tất cả các chữ cái đầu của từng dòng rồi ghép lại để được 1 câu cụ thể."
   ]
  },
  {
   "cell_type": "code",
   "execution_count": 2,
   "id": "52a29b62",
   "metadata": {},
   "outputs": [
    {
     "name": "stdout",
     "output_type": "stream",
     "text": [
      "CROSSMYHEART\n"
     ]
    }
   ],
   "source": [
    "data = '''\n",
    "Come to the\n",
    "River\n",
    "Of my\n",
    "Soulful\n",
    "Sentiments\n",
    "Meandering silently\n",
    "Yearning for release.\n",
    "Hasten\n",
    "Earnestly\n",
    "As my love flows by\n",
    "Rushing through the flood-gates\n",
    "To your heart.\n",
    "'''\n",
    "\n",
    "lines = data.splitlines()\n",
    "first = [line[0] for line in lines if line]\n",
    "print(''.join(first))"
   ]
  },
  {
   "cell_type": "markdown",
   "id": "bce70482",
   "metadata": {},
   "source": [
    "### BT2\n",
    "\n",
    "- Tính tổng tất cả các chữ số trong kết quả của phép tính `2**10000`\n"
   ]
  },
  {
   "cell_type": "code",
   "execution_count": 3,
   "id": "755689b9",
   "metadata": {},
   "outputs": [
    {
     "name": "stdout",
     "output_type": "stream",
     "text": [
      "13561\n"
     ]
    }
   ],
   "source": [
    "print(sum(map(int, str(2**10000))))"
   ]
  },
  {
   "cell_type": "markdown",
   "id": "892f2325",
   "metadata": {},
   "source": [
    "### BT3\n",
    "- Cho đoạn bài hát sau\n",
    "\n",
    "```\n",
    "Ngư60ời 'theo hư@ơng' hoa 100mây mù [giăng lối]\n",
    "Làn 25 sương khó30i phôi phai 90 đưa bư$ớc ai xa rồi 35\n",
    "100Đơn c#ôi m99ình ta {vấn vương} hồi ức tro^ng ... men say (chiều mưa) buồ80n \n",
    "Ng~ăn \"giọt lệ\" ngừng k2hiến khoé mi sầu bi.1 \n",
    "```\n",
    "\n",
    "- làm rõ lời bài hát bằng cách loại bỏ toàn bộ các số và kí tự punctuation :) \n",
    "- punctuation là gì? \n",
    "\n",
    "```\n",
    "import string\n",
    "string.punctuation # :)\n",
    "```\n"
   ]
  },
  {
   "cell_type": "code",
   "execution_count": 4,
   "id": "983ac2d6",
   "metadata": {},
   "outputs": [
    {
     "name": "stdout",
     "output_type": "stream",
     "text": [
      "Người theo hương hoa mây mù giăng lối\n",
      "Làn  sương khói phôi phai  đưa bước ai xa rồi \n",
      "Đơn côi mình ta vấn vương hồi ức trong  men say chiều mưa buồn \n",
      "Ngăn giọt lệ ngừng khiến khoé mi sầu bi \n"
     ]
    }
   ],
   "source": [
    "data = \"\"\"'Ngư60ời 'theo hư@ơng' hoa 100mây mù [giăng lối]\n",
    "Làn 25 sương khó30i phôi phai 90 đưa bư$ớc ai xa rồi 35\n",
    "100Đơn c#ôi m99ình ta {vấn vương} hồi ức tro^ng ... men say (chiều mưa) buồ80n \n",
    "Ng~ăn \"giọt lệ\" ngừng k2hiến khoé mi sầu bi.1' \"\"\"\n",
    "\n",
    "'''import string \n",
    "\n",
    "s = \"\" \n",
    "for i in data : \n",
    "    if(i.isdigit()) : \n",
    "        continue\n",
    "    \n",
    "    ok = 0\n",
    "    for j in string.punctuation : \n",
    "        if(i==j) : \n",
    "            ok = 1\n",
    "    if(ok) : continue\n",
    "    s = s + i\n",
    "print(s)'''\n",
    "\n",
    "import string \n",
    "s=\"\"\n",
    "for i in data:\n",
    "    if(i.isdigit()): continue \n",
    "    for j in string.punctuation: \n",
    "        if(i == j): i=''\n",
    "    s = s + i\n",
    "print(s)"
   ]
  },
  {
   "cell_type": "markdown",
   "id": "740b7ed6",
   "metadata": {},
   "source": [
    "### BT4\n",
    "\n",
    "- Giải bài toán lớp 3 sau: https://vnexpress.net/bai-toan-lop-3-co-so-luong-dap-an-khong-lo-3220439.html\n",
    "\n",
    "- Các biến liệt kê bên dưới nằm trong đoạn từ 1 đến 9, hỏi có bn bộ giá trị thỏa mãn điều kiện sau:\n",
    "\n",
    "```python\n",
    "a + 13 * b / c + d + 12 * e - f - 11 + g * h / i - 10 = 66\n",
    "```\n"
   ]
  },
  {
   "cell_type": "code",
   "execution_count": null,
   "id": "c8424973",
   "metadata": {},
   "outputs": [],
   "source": []
  },
  {
   "cell_type": "markdown",
   "id": "62b316ed",
   "metadata": {},
   "source": [
    "### BT5\n",
    "\n",
    "- Nếu lần lượt cho các giá trị trong bảng chữ cái tiếng Anh như sau: a = 1, b = 2, c = 3, .... thì tổng giá trị của các từ khi quy đổi ra số là như sau:\n",
    "\n",
    "```\n",
    "abc = 1 + 2 + 3 = 6\n",
    "defgh = 4 + 5 + 6 + 7 + 8 = 30 \n",
    "....\n",
    "```\n",
    "\n",
    "- Hỏi các từ sau có giá trị là bao nhiêu: python, patience, documents, students, homework, practice, success, english, university, congratulation\n"
   ]
  },
  {
   "cell_type": "code",
   "execution_count": 5,
   "id": "9f4af41b",
   "metadata": {},
   "outputs": [
    {
     "name": "stdout",
     "output_type": "stream",
     "text": [
      "python   98\n",
      "patience   73\n",
      "documents   114\n",
      "students   122\n",
      "homework   108\n",
      "practice   75\n",
      "success   89\n",
      "english   74\n",
      "university   162\n"
     ]
    }
   ],
   "source": [
    "data = [\"python\",\"patience\",\"documents\",\"students\",\"homework\",\"practice\",\"success\",\"english\",\"university\"] \n",
    "\n",
    "import string\n",
    "\n",
    "for word in data : \n",
    "    s = 0\n",
    "    for i in word :\n",
    "        cnt = 0\n",
    "        for letter in string.ascii_lowercase :\n",
    "            cnt+=1\n",
    "            if(i==letter) : \n",
    "                s = s + cnt\n",
    "    print(word,\" \",s)\n"
   ]
  },
  {
   "cell_type": "markdown",
   "id": "abce040f",
   "metadata": {},
   "source": [
    "### BT6\n",
    "\n",
    "- Viết code sinh các số Fibonacci dưới 1000, lưu giữ kết quả vào 1 list.\n"
   ]
  },
  {
   "cell_type": "code",
   "execution_count": 6,
   "id": "432811ac",
   "metadata": {},
   "outputs": [
    {
     "name": "stdout",
     "output_type": "stream",
     "text": [
      "[1, 1, 2, 3, 5, 8, 13, 21, 34, 55, 89, 144, 233, 377, 610, 987]\n"
     ]
    }
   ],
   "source": [
    "a = 1\n",
    "b = 1\n",
    "fibo = [1,1] \n",
    "for i in range(0,50) : \n",
    "    c = a + b\n",
    "    if(c<=1000) : \n",
    "        fibo.append(c) \n",
    "    a = b\n",
    "    b = c\n",
    "print(fibo)"
   ]
  },
  {
   "cell_type": "markdown",
   "id": "c38d49c0",
   "metadata": {},
   "source": [
    "### BT7 \n",
    "\n",
    "- Viết code sinh các số nguyên tố dưới 10000, lưu giữ kết quả vào 1 list.\n"
   ]
  },
  {
   "cell_type": "code",
   "execution_count": 7,
   "id": "9c9f3517",
   "metadata": {},
   "outputs": [
    {
     "name": "stdout",
     "output_type": "stream",
     "text": [
      "[2, 3, 5, 7, 11, 13, 17, 19, 23, 29, 31, 37, 41, 43, 47, 53, 59, 61, 67, 71, 73, 79, 83, 89, 97, 101, 103, 107, 109, 113, 127, 131, 137, 139, 149, 151, 157, 163, 167, 173, 179, 181, 191, 193, 197, 199, 211, 223, 227, 229, 233, 239, 241, 251, 257, 263, 269, 271, 277, 281, 283, 293, 307, 311, 313, 317, 331, 337, 347, 349, 353, 359, 367, 373, 379, 383, 389, 397, 401, 409, 419, 421, 431, 433, 439, 443, 449, 457, 461, 463, 467, 479, 487, 491, 499, 503, 509, 521, 523, 541, 547, 557, 563, 569, 571, 577, 587, 593, 599, 601, 607, 613, 617, 619, 631, 641, 643, 647, 653, 659, 661, 673, 677, 683, 691, 701, 709, 719, 727, 733, 739, 743, 751, 757, 761, 769, 773, 787, 797, 809, 811, 821, 823, 827, 829, 839, 853, 857, 859, 863, 877, 881, 883, 887, 907, 911, 919, 929, 937, 941, 947, 953, 967, 971, 977, 983, 991, 997, 1009, 1013, 1019, 1021, 1031, 1033, 1039, 1049, 1051, 1061, 1063, 1069, 1087, 1091, 1093, 1097, 1103, 1109, 1117, 1123, 1129, 1151, 1153, 1163, 1171, 1181, 1187, 1193, 1201, 1213, 1217, 1223, 1229, 1231, 1237, 1249, 1259, 1277, 1279, 1283, 1289, 1291, 1297, 1301, 1303, 1307, 1319, 1321, 1327, 1361, 1367, 1373, 1381, 1399, 1409, 1423, 1427, 1429, 1433, 1439, 1447, 1451, 1453, 1459, 1471, 1481, 1483, 1487, 1489, 1493, 1499, 1511, 1523, 1531, 1543, 1549, 1553, 1559, 1567, 1571, 1579, 1583, 1597, 1601, 1607, 1609, 1613, 1619, 1621, 1627, 1637, 1657, 1663, 1667, 1669, 1693, 1697, 1699, 1709, 1721, 1723, 1733, 1741, 1747, 1753, 1759, 1777, 1783, 1787, 1789, 1801, 1811, 1823, 1831, 1847, 1861, 1867, 1871, 1873, 1877, 1879, 1889, 1901, 1907, 1913, 1931, 1933, 1949, 1951, 1973, 1979, 1987, 1993, 1997, 1999, 2003, 2011, 2017, 2027, 2029, 2039, 2053, 2063, 2069, 2081, 2083, 2087, 2089, 2099, 2111, 2113, 2129, 2131, 2137, 2141, 2143, 2153, 2161, 2179, 2203, 2207, 2213, 2221, 2237, 2239, 2243, 2251, 2267, 2269, 2273, 2281, 2287, 2293, 2297, 2309, 2311, 2333, 2339, 2341, 2347, 2351, 2357, 2371, 2377, 2381, 2383, 2389, 2393, 2399, 2411, 2417, 2423, 2437, 2441, 2447, 2459, 2467, 2473, 2477, 2503, 2521, 2531, 2539, 2543, 2549, 2551, 2557, 2579, 2591, 2593, 2609, 2617, 2621, 2633, 2647, 2657, 2659, 2663, 2671, 2677, 2683, 2687, 2689, 2693, 2699, 2707, 2711, 2713, 2719, 2729, 2731, 2741, 2749, 2753, 2767, 2777, 2789, 2791, 2797, 2801, 2803, 2819, 2833, 2837, 2843, 2851, 2857, 2861, 2879, 2887, 2897, 2903, 2909, 2917, 2927, 2939, 2953, 2957, 2963, 2969, 2971, 2999, 3001, 3011, 3019, 3023, 3037, 3041, 3049, 3061, 3067, 3079, 3083, 3089, 3109, 3119, 3121, 3137, 3163, 3167, 3169, 3181, 3187, 3191, 3203, 3209, 3217, 3221, 3229, 3251, 3253, 3257, 3259, 3271, 3299, 3301, 3307, 3313, 3319, 3323, 3329, 3331, 3343, 3347, 3359, 3361, 3371, 3373, 3389, 3391, 3407, 3413, 3433, 3449, 3457, 3461, 3463, 3467, 3469, 3491, 3499, 3511, 3517, 3527, 3529, 3533, 3539, 3541, 3547, 3557, 3559, 3571, 3581, 3583, 3593, 3607, 3613, 3617, 3623, 3631, 3637, 3643, 3659, 3671, 3673, 3677, 3691, 3697, 3701, 3709, 3719, 3727, 3733, 3739, 3761, 3767, 3769, 3779, 3793, 3797, 3803, 3821, 3823, 3833, 3847, 3851, 3853, 3863, 3877, 3881, 3889, 3907, 3911, 3917, 3919, 3923, 3929, 3931, 3943, 3947, 3967, 3989, 4001, 4003, 4007, 4013, 4019, 4021, 4027, 4049, 4051, 4057, 4073, 4079, 4091, 4093, 4099, 4111, 4127, 4129, 4133, 4139, 4153, 4157, 4159, 4177, 4201, 4211, 4217, 4219, 4229, 4231, 4241, 4243, 4253, 4259, 4261, 4271, 4273, 4283, 4289, 4297, 4327, 4337, 4339, 4349, 4357, 4363, 4373, 4391, 4397, 4409, 4421, 4423, 4441, 4447, 4451, 4457, 4463, 4481, 4483, 4493, 4507, 4513, 4517, 4519, 4523, 4547, 4549, 4561, 4567, 4583, 4591, 4597, 4603, 4621, 4637, 4639, 4643, 4649, 4651, 4657, 4663, 4673, 4679, 4691, 4703, 4721, 4723, 4729, 4733, 4751, 4759, 4783, 4787, 4789, 4793, 4799, 4801, 4813, 4817, 4831, 4861, 4871, 4877, 4889, 4903, 4909, 4919, 4931, 4933, 4937, 4943, 4951, 4957, 4967, 4969, 4973, 4987, 4993, 4999, 5003, 5009, 5011, 5021, 5023, 5039, 5051, 5059, 5077, 5081, 5087, 5099, 5101, 5107, 5113, 5119, 5147, 5153, 5167, 5171, 5179, 5189, 5197, 5209, 5227, 5231, 5233, 5237, 5261, 5273, 5279, 5281, 5297, 5303, 5309, 5323, 5333, 5347, 5351, 5381, 5387, 5393, 5399, 5407, 5413, 5417, 5419, 5431, 5437, 5441, 5443, 5449, 5471, 5477, 5479, 5483, 5501, 5503, 5507, 5519, 5521, 5527, 5531, 5557, 5563, 5569, 5573, 5581, 5591, 5623, 5639, 5641, 5647, 5651, 5653, 5657, 5659, 5669, 5683, 5689, 5693, 5701, 5711, 5717, 5737, 5741, 5743, 5749, 5779, 5783, 5791, 5801, 5807, 5813, 5821, 5827, 5839, 5843, 5849, 5851, 5857, 5861, 5867, 5869, 5879, 5881, 5897, 5903, 5923, 5927, 5939, 5953, 5981, 5987, 6007, 6011, 6029, 6037, 6043, 6047, 6053, 6067, 6073, 6079, 6089, 6091, 6101, 6113, 6121, 6131, 6133, 6143, 6151, 6163, 6173, 6197, 6199, 6203, 6211, 6217, 6221, 6229, 6247, 6257, 6263, 6269, 6271, 6277, 6287, 6299, 6301, 6311, 6317, 6323, 6329, 6337, 6343, 6353, 6359, 6361, 6367, 6373, 6379, 6389, 6397, 6421, 6427, 6449, 6451, 6469, 6473, 6481, 6491, 6521, 6529, 6547, 6551, 6553, 6563, 6569, 6571, 6577, 6581, 6599, 6607, 6619, 6637, 6653, 6659, 6661, 6673, 6679, 6689, 6691, 6701, 6703, 6709, 6719, 6733, 6737, 6761, 6763, 6779, 6781, 6791, 6793, 6803, 6823, 6827, 6829, 6833, 6841, 6857, 6863, 6869, 6871, 6883, 6899, 6907, 6911, 6917, 6947, 6949, 6959, 6961, 6967, 6971, 6977, 6983, 6991, 6997, 7001, 7013, 7019, 7027, 7039, 7043, 7057, 7069, 7079, 7103, 7109, 7121, 7127, 7129, 7151, 7159, 7177, 7187, 7193, 7207, 7211, 7213, 7219, 7229, 7237, 7243, 7247, 7253, 7283, 7297, 7307, 7309, 7321, 7331, 7333, 7349, 7351, 7369, 7393, 7411, 7417, 7433, 7451, 7457, 7459, 7477, 7481, 7487, 7489, 7499, 7507, 7517, 7523, 7529, 7537, 7541, 7547, 7549, 7559, 7561, 7573, 7577, 7583, 7589, 7591, 7603, 7607, 7621, 7639, 7643, 7649, 7669, 7673, 7681, 7687, 7691, 7699, 7703, 7717, 7723, 7727, 7741, 7753, 7757, 7759, 7789, 7793, 7817, 7823, 7829, 7841, 7853, 7867, 7873, 7877, 7879, 7883, 7901, 7907, 7919, 7927, 7933, 7937, 7949, 7951, 7963, 7993, 8009, 8011, 8017, 8039, 8053, 8059, 8069, 8081, 8087, 8089, 8093, 8101, 8111, 8117, 8123, 8147, 8161, 8167, 8171, 8179, 8191, 8209, 8219, 8221, 8231, 8233, 8237, 8243, 8263, 8269, 8273, 8287, 8291, 8293, 8297, 8311, 8317, 8329, 8353, 8363, 8369, 8377, 8387, 8389, 8419, 8423, 8429, 8431, 8443, 8447, 8461, 8467, 8501, 8513, 8521, 8527, 8537, 8539, 8543, 8563, 8573, 8581, 8597, 8599, 8609, 8623, 8627, 8629, 8641, 8647, 8663, 8669, 8677, 8681, 8689, 8693, 8699, 8707, 8713, 8719, 8731, 8737, 8741, 8747, 8753, 8761, 8779, 8783, 8803, 8807, 8819, 8821, 8831, 8837, 8839, 8849, 8861, 8863, 8867, 8887, 8893, 8923, 8929, 8933, 8941, 8951, 8963, 8969, 8971, 8999, 9001, 9007, 9011, 9013, 9029, 9041, 9043, 9049, 9059, 9067, 9091, 9103, 9109, 9127, 9133, 9137, 9151, 9157, 9161, 9173, 9181, 9187, 9199, 9203, 9209, 9221, 9227, 9239, 9241, 9257, 9277, 9281, 9283, 9293, 9311, 9319, 9323, 9337, 9341, 9343, 9349, 9371, 9377, 9391, 9397, 9403, 9413, 9419, 9421, 9431, 9433, 9437, 9439, 9461, 9463, 9467, 9473, 9479, 9491, 9497, 9511, 9521, 9533, 9539, 9547, 9551, 9587, 9601, 9613, 9619, 9623, 9629, 9631, 9643, 9649, 9661, 9677, 9679, 9689, 9697, 9719, 9721, 9733, 9739, 9743, 9749, 9767, 9769, 9781, 9787, 9791, 9803, 9811, 9817, 9829, 9833, 9839, 9851, 9857, 9859, 9871, 9883, 9887, 9901, 9907, 9923, 9929, 9931, 9941, 9949, 9967, 9973]\n"
     ]
    }
   ],
   "source": [
    "prime_number = []\n",
    "for i in range(2,10001) : \n",
    "    ok = 1\n",
    "    for j in range(2,i+1) : \n",
    "        if(j*j>i) : break\n",
    "        if(i%j==0) : \n",
    "            ok = 0\n",
    "            break\n",
    "    if(ok) : prime_number.append(i) \n",
    "print(prime_number)\n"
   ]
  },
  {
   "cell_type": "markdown",
   "id": "6923104d",
   "metadata": {},
   "source": [
    "\n",
    "### BT8\n",
    "\n",
    "- Cho đoạn văn bản sau\n",
    "\n",
    "```text\n",
    "Python is an easy to learn, powerful programming language. It has efficient high-level data structures and a simple but effective approach to object-oriented programming. Python’s elegant syntax and dynamic typing, together with its interpreted nature, make it an ideal language for scripting and rapid application development in many areas on most platforms.\n",
    "\n",
    "The Python interpreter and the extensive standard library are freely available in source or binary form for all major platforms from the Python Web site, https://www.python.org/, and may be freely distributed. The same site also contains distributions of and pointers to many free third party Python modules, programs and tools, and additional documentation.\n",
    "\n",
    "The Python interpreter is easily extended with new functions and data types implemented in C or C++ (or other languages callable from C). Python is also suitable as an extension language for customizable applications.\n",
    "\n",
    "This tutorial introduces the reader informally to the basic concepts and features of the Python language and system. It helps to have a Python interpreter handy for hands-on experience, but all examples are self-contained, so the tutorial can be read off-line as well.\n",
    "\n",
    "For a description of standard objects and modules, see The Python Standard Library. The Python Language Reference gives a more formal definition of the language. To write extensions in C or C++, read Extending and Embedding the Python Interpreter and Python/C API Reference Manual. There are also several books covering Python in depth.\n",
    "\n",
    "This tutorial does not attempt to be comprehensive and cover every single feature, or even every commonly used feature. Instead, it introduces many of Python’s most noteworthy features, and will give you a good idea of the language’s flavor and style. After reading it, you will be able to read and write Python modules and programs, and you will be ready to learn more about the various Python library modules described in The Python Standard Library.\n",
    "```\n",
    "\n",
    "- Trả về dict chứa 10 phần tử xuất hiện nhiều nhất cùng số lần xuất hiện theo format:\n",
    "\n",
    "```python\n",
    "result = {\"if\": 10, ...}\n",
    "```\n",
    "\n",
    "- Lưu ý: không quan trọng uppercase và lowercase. Các phần tử chỉ bao gồm các chữ cái và số\n"
   ]
  },
  {
   "cell_type": "code",
   "execution_count": 9,
   "id": "a44da7dd",
   "metadata": {},
   "outputs": [
    {
     "name": "stdout",
     "output_type": "stream",
     "text": [
      "{'and': 20, 'python': 19, 'the': 16, 'to': 9, 'language': 7, 'in': 6, 'of': 6, 'c': 6, 'it': 5, 'a': 5}\n"
     ]
    }
   ],
   "source": [
    "text ='''\n",
    "Python is an easy to learn, powerful programming language. It has efficient high-level data structures and a simple but effective approach to object-oriented programming. Python’s elegant syntax and dynamic typing, together with its interpreted nature, make it an ideal language for scripting and rapid application development in many areas on most platforms.\n",
    "\n",
    "The Python interpreter and the extensive standard library are freely available in source or binary form for all major platforms from the Python Web site, https://www.python.org/, and may be freely distributed. The same site also contains distributions of and pointers to many free third party Python modules, programs and tools, and additional documentation.\n",
    "\n",
    "The Python interpreter is easily extended with new functions and data types implemented in C or C++ (or other languages callable from C). Python is also suitable as an extension language for customizable applications.\n",
    "\n",
    "This tutorial introduces the reader informally to the basic concepts and features of the Python language and system. It helps to have a Python interpreter handy for hands-on experience, but all examples are self-contained, so the tutorial can be read off-line as well.\n",
    "\n",
    "For a description of standard objects and modules, see The Python Standard Library. The Python Language Reference gives a more formal definition of the language. To write extensions in C or C++, read Extending and Embedding the Python Interpreter and Python/C API Reference Manual. There are also several books covering Python in depth.\n",
    "\n",
    "This tutorial does not attempt to be comprehensive and cover every single feature, or even every commonly used feature. Instead, it introduces many of Python’s most noteworthy features, and will give you a good idea of the language’s flavor and style. After reading it, you will be able to read and write Python modules and programs, and you will be ready to learn more about the various Python library modules described in The Python Standard Library.'''\n",
    "\n",
    "import re\n",
    "from collections import Counter\n",
    "\n",
    "# Tách các từ trong đoạn văn bản thành danh sách các từ\n",
    "words = re.findall(r'\\b\\w+\\b', text.lower())\n",
    "with open(\"me.txt\", \"w\") as file:\n",
    "    file.write('\\n'.join(map(str, words)))\n",
    "word_counts = Counter(words)\n",
    "\n",
    "# Lấy 10 phần tử xuất hiện nhiều nhất\n",
    "most_common_words = word_counts.most_common(10)\n",
    "\n",
    "result = dict(most_common_words)\n",
    "\n",
    "print(result)\n",
    "# most_common_words"
   ]
  },
  {
   "cell_type": "markdown",
   "id": "7eec3280",
   "metadata": {},
   "source": [
    "### BT9\n",
    "\n",
    "- Với 2 list:\n",
    "\n",
    "```python\n",
    "A = [1, 2, 3, 4, 5, 6]\n",
    "B = [3, 4, 5, 6, 7, 8, 9, 10]\n",
    "```\n",
    "\n",
    "- Lấy các phần tử:\n",
    "  - Có trong cả A, B\n",
    "  - Chỉ có trong A\n",
    "  - Chỉ có trong B\n",
    "  - Chỉ có trong A hoặc B (mà không phải cả 2)\n"
   ]
  },
  {
   "cell_type": "code",
   "execution_count": null,
   "id": "2a969faa",
   "metadata": {},
   "outputs": [],
   "source": [
    "A = [1, 2, 3, 4, 5, 6]\n",
    "B = [3, 4, 5, 6, 7, 8, 9, 10]\n",
    "set_A = set(A) \n",
    "set_B = set(B) \n",
    "\n",
    "tmp = {}\n",
    "tmp=(set_A & set_B) \n",
    "print(tmp)\n",
    "for i in tmp: \n",
    "    set_A.remove(i)\n",
    "print(set_A)\n",
    "for i in tmp: \n",
    "    set_B.remove(i)\n",
    "print(set_B)\n",
    "set_A.update(set_B)\n",
    "print(set_A)"
   ]
  },
  {
   "cell_type": "markdown",
   "id": "dd19da61",
   "metadata": {},
   "source": [
    "  \n",
    "### BT10\n",
    "\n",
    "- Trả về 1 list n tuple được định nghĩa như sau:\n",
    "\n",
    "```python\n",
    "years = [(1900, \"Canh Tí\"), ... (2019, \"Kỷ Hợi\")]\n",
    "```\n",
    "\n",
    "- với năm chạy từ 1900 đến 2019, output yêu cầu trả về đúng như format bên trên, bao gồm năm và can chi tương ứng\n",
    "- Chú ý viết hoa các chữ cái đầu \n",
    "\n",
    "---"
   ]
  },
  {
   "cell_type": "code",
   "execution_count": 10,
   "id": "b9a94fc8",
   "metadata": {},
   "outputs": [
    {
     "name": "stdout",
     "output_type": "stream",
     "text": [
      "[(1900, 'Canh Tý'), (1901, 'Tân Sửu'), (1902, 'Nhâm Dần'), (1903, 'Quý Mão'), (1904, 'Giáp Thìn'), (1905, 'Ất Tỵ'), (1906, 'Bính Ngọ'), (1907, 'Đinh Mùi'), (1908, 'Mậu Thân'), (1909, 'Kỷ Dậu'), (1910, 'Canh Tuất'), (1911, 'Tân Hợi'), (1912, 'Nhâm Tý'), (1913, 'Quý Sửu'), (1914, 'Giáp Dần'), (1915, 'Ất Mão'), (1916, 'Bính Thìn'), (1917, 'Đinh Tỵ'), (1918, 'Mậu Ngọ'), (1919, 'Kỷ Mùi'), (1920, 'Canh Thân'), (1921, 'Tân Dậu'), (1922, 'Nhâm Tuất'), (1923, 'Quý Hợi'), (1924, 'Giáp Tý'), (1925, 'Ất Sửu'), (1926, 'Bính Dần'), (1927, 'Đinh Mão'), (1928, 'Mậu Thìn'), (1929, 'Kỷ Tỵ'), (1930, 'Canh Ngọ'), (1931, 'Tân Mùi'), (1932, 'Nhâm Thân'), (1933, 'Quý Dậu'), (1934, 'Giáp Tuất'), (1935, 'Ất Hợi'), (1936, 'Bính Tý'), (1937, 'Đinh Sửu'), (1938, 'Mậu Dần'), (1939, 'Kỷ Mão'), (1940, 'Canh Thìn'), (1941, 'Tân Tỵ'), (1942, 'Nhâm Ngọ'), (1943, 'Quý Mùi'), (1944, 'Giáp Thân'), (1945, 'Ất Dậu'), (1946, 'Bính Tuất'), (1947, 'Đinh Hợi'), (1948, 'Mậu Tý'), (1949, 'Kỷ Sửu'), (1950, 'Canh Dần'), (1951, 'Tân Mão'), (1952, 'Nhâm Thìn'), (1953, 'Quý Tỵ'), (1954, 'Giáp Ngọ'), (1955, 'Ất Mùi'), (1956, 'Bính Thân'), (1957, 'Đinh Dậu'), (1958, 'Mậu Tuất'), (1959, 'Kỷ Hợi'), (1960, 'Canh Tý'), (1961, 'Tân Sửu'), (1962, 'Nhâm Dần'), (1963, 'Quý Mão'), (1964, 'Giáp Thìn'), (1965, 'Ất Tỵ'), (1966, 'Bính Ngọ'), (1967, 'Đinh Mùi'), (1968, 'Mậu Thân'), (1969, 'Kỷ Dậu'), (1970, 'Canh Tuất'), (1971, 'Tân Hợi'), (1972, 'Nhâm Tý'), (1973, 'Quý Sửu'), (1974, 'Giáp Dần'), (1975, 'Ất Mão'), (1976, 'Bính Thìn'), (1977, 'Đinh Tỵ'), (1978, 'Mậu Ngọ'), (1979, 'Kỷ Mùi'), (1980, 'Canh Thân'), (1981, 'Tân Dậu'), (1982, 'Nhâm Tuất'), (1983, 'Quý Hợi'), (1984, 'Giáp Tý'), (1985, 'Ất Sửu'), (1986, 'Bính Dần'), (1987, 'Đinh Mão'), (1988, 'Mậu Thìn'), (1989, 'Kỷ Tỵ'), (1990, 'Canh Ngọ'), (1991, 'Tân Mùi'), (1992, 'Nhâm Thân'), (1993, 'Quý Dậu'), (1994, 'Giáp Tuất'), (1995, 'Ất Hợi'), (1996, 'Bính Tý'), (1997, 'Đinh Sửu'), (1998, 'Mậu Dần'), (1999, 'Kỷ Mão'), (2000, 'Canh Thìn'), (2001, 'Tân Tỵ'), (2002, 'Nhâm Ngọ'), (2003, 'Quý Mùi'), (2004, 'Giáp Thân'), (2005, 'Ất Dậu'), (2006, 'Bính Tuất'), (2007, 'Đinh Hợi'), (2008, 'Mậu Tý'), (2009, 'Kỷ Sửu'), (2010, 'Canh Dần'), (2011, 'Tân Mão'), (2012, 'Nhâm Thìn'), (2013, 'Quý Tỵ'), (2014, 'Giáp Ngọ'), (2015, 'Ất Mùi'), (2016, 'Bính Thân'), (2017, 'Đinh Dậu'), (2018, 'Mậu Tuất'), (2019, 'Kỷ Hợi')]\n"
     ]
    }
   ],
   "source": [
    "Can = [\"Tân\",\"Nhâm\",\"Quý\",\"Giáp\",\"Ất\",\"Bính\",\"Đinh\",\"Mậu\",\"Kỷ\",\"Canh\"]\n",
    "Chi = [\"Dậu\",\"Tuất\",\"Hợi\",\"Tý\",\"Sửu\",\"Dần\",\"Mão\",\"Thìn\",\"Tỵ\",\"Ngọ\",\"Mùi\",\"Thân\"]\n",
    "\n",
    "Can_id = 9\n",
    "Chi_id = 3\n",
    "years = []\n",
    "for i in range(1900,2020) :\n",
    "    s = Can[Can_id] + \" \" + Chi[Chi_id]\n",
    "    years.append((i,s))\n",
    "    Chi_id = (Chi_id + 1)%12\n",
    "    Can_id = (Can_id + 1)%10\n",
    "print(years)"
   ]
  },
  {
   "cell_type": "code",
   "execution_count": null,
   "id": "3a462edf",
   "metadata": {},
   "outputs": [],
   "source": []
  }
 ],
 "metadata": {
  "kernelspec": {
   "display_name": "Python 3 (ipykernel)",
   "language": "python",
   "name": "python3"
  },
  "language_info": {
   "codemirror_mode": {
    "name": "ipython",
    "version": 3
   },
   "file_extension": ".py",
   "mimetype": "text/x-python",
   "name": "python",
   "nbconvert_exporter": "python",
   "pygments_lexer": "ipython3",
   "version": "3.10.9"
  }
 },
 "nbformat": 4,
 "nbformat_minor": 5
}
