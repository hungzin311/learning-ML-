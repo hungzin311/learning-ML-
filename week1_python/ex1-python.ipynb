{
 "cells": [
  {
   "cell_type": "markdown",
   "id": "29425641",
   "metadata": {},
   "source": [
    "# Phần bài tập thực hành Python "
   ]
  },
  {
   "cell_type": "markdown",
   "id": "0a15870c",
   "metadata": {},
   "source": [
    "### BT1: cho 1 biến data kiểu string như bên dưới\n",
    "\n",
    "```\n",
    "data = '''\n",
    "Come to the\n",
    "River\n",
    "Of my\n",
    "Soulful\n",
    "Sentiments\n",
    "Meandering silently\n",
    "Yearning for release.\n",
    "Hasten\n",
    "Earnestly\n",
    "As my love flows by\n",
    "Rushing through the flood-gates\n",
    "To your heart.\n",
    "'''\n",
    "# https://www.poetrysoup.com/poem/cross_my_heart_609765\n",
    "```\n",
    "\n",
    "- Yêu cầu: giải mã mật thư, lấy tất cả các chữ cái đầu của từng dòng rồi ghép lại để được 1 câu cụ thể."
   ]
  },
  {
   "cell_type": "code",
   "execution_count": 1,
   "id": "52a29b62",
   "metadata": {},
   "outputs": [],
   "source": [
    "# code here"
   ]
  },
  {
   "cell_type": "markdown",
   "id": "bce70482",
   "metadata": {},
   "source": [
    "### BT2\n",
    "\n",
    "- Tính tổng tất cả các chữ số trong kết quả của phép tính `2**10000`\n"
   ]
  },
  {
   "cell_type": "code",
   "execution_count": 2,
   "id": "755689b9",
   "metadata": {},
   "outputs": [],
   "source": [
    "# code here"
   ]
  },
  {
   "cell_type": "markdown",
   "id": "892f2325",
   "metadata": {},
   "source": [
    "### BT3\n",
    "- Cho đoạn bài hát sau\n",
    "\n",
    "```\n",
    "Ngư60ời 'theo hư@ơng' hoa 100mây mù [giăng lối]\n",
    "Làn 25 sương khó30i phôi phai 90 đưa bư$ớc ai xa rồi 35\n",
    "100Đơn c#ôi m99ình ta {vấn vương} hồi ức tro^ng ... men say (chiều mưa) buồ80n \n",
    "Ng~ăn \"giọt lệ\" ngừng k2hiến khoé mi sầu bi.1 \n",
    "```\n",
    "\n",
    "- làm rõ lời bài hát bằng cách loại bỏ toàn bộ các số và kí tự punctuation :) \n",
    "- punctuation là gì? \n",
    "\n",
    "```\n",
    "import string\n",
    "string.punctuation # :)\n",
    "```\n"
   ]
  },
  {
   "cell_type": "code",
   "execution_count": 3,
   "id": "983ac2d6",
   "metadata": {},
   "outputs": [],
   "source": [
    "# code here"
   ]
  },
  {
   "cell_type": "markdown",
   "id": "740b7ed6",
   "metadata": {},
   "source": [
    "### BT4\n",
    "\n",
    "- Giải bài toán lớp 3 sau: https://vnexpress.net/bai-toan-lop-3-co-so-luong-dap-an-khong-lo-3220439.html\n",
    "\n",
    "- Các biến liệt kê bên dưới nằm trong đoạn từ 1 đến 9, hỏi có bn bộ giá trị thỏa mãn điều kiện sau:\n",
    "\n",
    "```python\n",
    "a + 13 * b / c + d + 12 * e - f - 11 + g * h / i - 10 = 66\n",
    "```\n"
   ]
  },
  {
   "cell_type": "code",
   "execution_count": 4,
   "id": "c8424973",
   "metadata": {},
   "outputs": [],
   "source": [
    "# code here"
   ]
  },
  {
   "cell_type": "markdown",
   "id": "62b316ed",
   "metadata": {},
   "source": [
    "### BT5\n",
    "\n",
    "- Nếu lần lượt cho các giá trị trong bảng chữ cái tiếng Anh như sau: a = 1, b = 2, c = 3, .... thì tổng giá trị của các từ khi quy đổi ra số là như sau:\n",
    "\n",
    "```\n",
    "abc = 1 + 2 + 3 = 6\n",
    "defgh = 4 + 5 + 6 + 7 + 8 = 30 \n",
    "....\n",
    "```\n",
    "\n",
    "- Hỏi các từ sau có giá trị là bao nhiêu: python, patience, documents, students, homework, practice, success, english, university, congratulation\n"
   ]
  },
  {
   "cell_type": "code",
   "execution_count": 5,
   "id": "9f4af41b",
   "metadata": {},
   "outputs": [],
   "source": [
    "# code here"
   ]
  },
  {
   "cell_type": "markdown",
   "id": "abce040f",
   "metadata": {},
   "source": [
    "### BT6\n",
    "\n",
    "- Viết code sinh các số Fibonacci dưới 1000, lưu giữ kết quả vào 1 list.\n"
   ]
  },
  {
   "cell_type": "code",
   "execution_count": 6,
   "id": "432811ac",
   "metadata": {},
   "outputs": [],
   "source": [
    "# code here"
   ]
  },
  {
   "cell_type": "markdown",
   "id": "c38d49c0",
   "metadata": {},
   "source": [
    "### BT7 \n",
    "\n",
    "- Viết code sinh các số nguyên tố dưới 10000, lưu giữ kết quả vào 1 list.\n"
   ]
  },
  {
   "cell_type": "code",
   "execution_count": 7,
   "id": "9c9f3517",
   "metadata": {},
   "outputs": [],
   "source": [
    "# code here"
   ]
  },
  {
   "cell_type": "markdown",
   "id": "6923104d",
   "metadata": {},
   "source": [
    "\n",
    "### BT8\n",
    "\n",
    "- Cho đoạn văn bản sau\n",
    "\n",
    "```text\n",
    "Python is an easy to learn, powerful programming language. It has efficient high-level data structures and a simple but effective approach to object-oriented programming. Python’s elegant syntax and dynamic typing, together with its interpreted nature, make it an ideal language for scripting and rapid application development in many areas on most platforms.\n",
    "\n",
    "The Python interpreter and the extensive standard library are freely available in source or binary form for all major platforms from the Python Web site, https://www.python.org/, and may be freely distributed. The same site also contains distributions of and pointers to many free third party Python modules, programs and tools, and additional documentation.\n",
    "\n",
    "The Python interpreter is easily extended with new functions and data types implemented in C or C++ (or other languages callable from C). Python is also suitable as an extension language for customizable applications.\n",
    "\n",
    "This tutorial introduces the reader informally to the basic concepts and features of the Python language and system. It helps to have a Python interpreter handy for hands-on experience, but all examples are self-contained, so the tutorial can be read off-line as well.\n",
    "\n",
    "For a description of standard objects and modules, see The Python Standard Library. The Python Language Reference gives a more formal definition of the language. To write extensions in C or C++, read Extending and Embedding the Python Interpreter and Python/C API Reference Manual. There are also several books covering Python in depth.\n",
    "\n",
    "This tutorial does not attempt to be comprehensive and cover every single feature, or even every commonly used feature. Instead, it introduces many of Python’s most noteworthy features, and will give you a good idea of the language’s flavor and style. After reading it, you will be able to read and write Python modules and programs, and you will be ready to learn more about the various Python library modules described in The Python Standard Library.\n",
    "```\n",
    "\n",
    "- Trả về dict chứa 10 phần tử xuất hiện nhiều nhất cùng số lần xuất hiện theo format:\n",
    "\n",
    "```python\n",
    "result = {\"if\": 10, ...}\n",
    "```\n",
    "\n",
    "- Lưu ý: không quan trọng uppercase và lowercase. Các phần tử chỉ bao gồm các chữ cái và số\n"
   ]
  },
  {
   "cell_type": "code",
   "execution_count": 8,
   "id": "a44da7dd",
   "metadata": {},
   "outputs": [],
   "source": [
    "# code here"
   ]
  },
  {
   "cell_type": "markdown",
   "id": "7eec3280",
   "metadata": {},
   "source": [
    "### BT9\n",
    "\n",
    "- Với 2 list:\n",
    "\n",
    "```python\n",
    "A = [1, 2, 3, 4, 5, 6]\n",
    "B = [3, 4, 5, 6, 7, 8, 9, 10]\n",
    "```\n",
    "\n",
    "- Lấy các phần tử:\n",
    "  - Có trong cả A, B\n",
    "  - Chỉ có trong A\n",
    "  - Chỉ có trong B\n",
    "  - Chỉ có trong A hoặc B (mà không phải cả 2)\n"
   ]
  },
  {
   "cell_type": "code",
   "execution_count": 9,
   "id": "2a969faa",
   "metadata": {},
   "outputs": [],
   "source": [
    "# code here"
   ]
  },
  {
   "cell_type": "markdown",
   "id": "dd19da61",
   "metadata": {},
   "source": [
    "  \n",
    "### BT10\n",
    "\n",
    "- Trả về 1 list n tuple được định nghĩa như sau:\n",
    "\n",
    "```python\n",
    "years = [(1900, \"Canh Tí\"), ... (2019, \"Kỷ Hợi\")]\n",
    "```\n",
    "\n",
    "- với năm chạy từ 1900 đến 2019, output yêu cầu trả về đúng như format bên trên, bao gồm năm và can chi tương ứng\n",
    "- Chú ý viết hoa các chữ cái đầu \n",
    "\n",
    "---"
   ]
  },
  {
   "cell_type": "code",
   "execution_count": 10,
   "id": "b9a94fc8",
   "metadata": {},
   "outputs": [],
   "source": [
    "# code here"
   ]
  }
 ],
 "metadata": {
  "kernelspec": {
   "display_name": "Python 3",
   "language": "python",
   "name": "python3"
  },
  "language_info": {
   "codemirror_mode": {
    "name": "ipython",
    "version": 3
   },
   "file_extension": ".py",
   "mimetype": "text/x-python",
   "name": "python",
   "nbconvert_exporter": "python",
   "pygments_lexer": "ipython3",
   "version": "3.8.8"
  }
 },
 "nbformat": 4,
 "nbformat_minor": 5
}
